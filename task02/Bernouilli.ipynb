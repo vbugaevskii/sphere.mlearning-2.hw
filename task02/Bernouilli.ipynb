{
 "cells": [
  {
   "cell_type": "code",
   "execution_count": 1,
   "metadata": {
    "collapsed": false
   },
   "outputs": [],
   "source": [
    "%load_ext autoreload\n",
    "%autoreload 2\n",
    "\n",
    "from RBM import *\n",
    "import matplotlib.pyplot as plt\n",
    "\n",
    "%matplotlib inline"
   ]
  },
  {
   "cell_type": "code",
   "execution_count": 2,
   "metadata": {
    "collapsed": false
   },
   "outputs": [],
   "source": [
    "# it's interesting to test this code with p == 1.0 or p == 0.0 ;)\n",
    "p = .8\n",
    "X_train = np.random.binomial(n=1, p=p, size=(200, 2))\n",
    "X_test  = np.random.binomial(n=1, p=p, size=(200, 2))"
   ]
  },
  {
   "cell_type": "code",
   "execution_count": 3,
   "metadata": {
    "collapsed": false
   },
   "outputs": [
    {
     "name": "stdout",
     "output_type": "stream",
     "text": [
      "epoch = 99; learning_rate = 0.01; criteria_train = 1.04594774548; \n"
     ]
    }
   ],
   "source": [
    "nn = RBM(layers=[\n",
    "        BernoulliLayer(X_train.shape[1]),\n",
    "        BernoulliLayer(3)\n",
    "    ], loss_function='NLL')\n",
    "nn.fit(X_train, n_epochs=100, learning_rate=.01, n_gibbs_steps=1, batch_size=10, test_size=0)"
   ]
  },
  {
   "cell_type": "code",
   "execution_count": 4,
   "metadata": {
    "collapsed": false
   },
   "outputs": [
    {
     "name": "stdout",
     "output_type": "stream",
     "text": [
      "weights:\n",
      "[[ 0.52936406  0.40333571  0.29138525]\n",
      " [ 0.38707304  0.35685291  0.21255459]]\n",
      "bias (visible):\n",
      "[[ 0.651  0.519]]\n",
      "bias (hidden):\n",
      "[[ 0.15594343  0.06543495 -0.01501168]]\n"
     ]
    }
   ],
   "source": [
    "print 'weights:\\n', nn.weights\n",
    "print 'bias (visible):\\n', nn.layers[0].bias\n",
    "print 'bias (hidden):\\n',  nn.layers[1].bias"
   ]
  },
  {
   "cell_type": "code",
   "execution_count": 5,
   "metadata": {
    "collapsed": false
   },
   "outputs": [
    {
     "data": {
      "text/plain": [
       "(array([ 0.81235561,  0.76234148]), array([ 0.805,  0.755]), 0.8)"
      ]
     },
     "execution_count": 5,
     "metadata": {},
     "output_type": "execute_result"
    }
   ],
   "source": [
    "nn.predict_proba_mean(X_train), np.mean(X_train, axis=0), p"
   ]
  },
  {
   "cell_type": "code",
   "execution_count": 6,
   "metadata": {
    "collapsed": false
   },
   "outputs": [
    {
     "data": {
      "text/plain": [
       "(array([ 0.80716716,  0.75786555]), array([ 0.84,  0.83]), 0.8)"
      ]
     },
     "execution_count": 6,
     "metadata": {},
     "output_type": "execute_result"
    }
   ],
   "source": [
    "nn.predict_proba_mean(X_test), np.mean(X_test, axis=0), p"
   ]
  },
  {
   "cell_type": "code",
   "execution_count": 7,
   "metadata": {
    "collapsed": false
   },
   "outputs": [
    {
     "data": {
      "image/png": "[encoded data removed]",
      "text/plain": [
       "<matplotlib.figure.Figure at 0x752d6d8>"
      ]
     },
     "metadata": {},
     "output_type": "display_data"
    }
   ],
   "source": [
    "plt.figure(figsize=(7, 5))\n",
    "plt.plot(nn.error_train, label='train')\n",
    "if nn.error_test:\n",
    "    plt.plot(nn.error_test, label='CV')\n",
    "plt.xlabel('epoch')\n",
    "plt.ylabel(nn.loss_function)\n",
    "plt.legend()\n",
    "plt.grid()"
   ]
  },
  {
   "cell_type": "code",
   "execution_count": null,
   "metadata": {
    "collapsed": true
   },
   "outputs": [],
   "source": []
  }
 ],
 "metadata": {
  "kernelspec": {
   "display_name": "Python 2",
   "language": "python",
   "name": "python2"
  },
  "language_info": {
   "codemirror_mode": {
    "name": "ipython",
    "version": 2
   },
   "file_extension": ".py",
   "mimetype": "text/x-python",
   "name": "python",
   "nbconvert_exporter": "python",
   "pygments_lexer": "ipython2",
   "version": "2.7.11"
  }
 },
 "nbformat": 4,
 "nbformat_minor": 0
}

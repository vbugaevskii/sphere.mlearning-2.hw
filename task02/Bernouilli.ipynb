{
 "cells": [
  {
   "cell_type": "code",
   "execution_count": 1,
   "metadata": {
    "collapsed": false
   },
   "outputs": [],
   "source": [
    "%load_ext autoreload\n",
    "%autoreload 2\n",
    "\n",
    "from RBM import *\n",
    "import matplotlib.pyplot as plt\n",
    "\n",
    "%matplotlib inline"
   ]
  },
  {
   "cell_type": "code",
   "execution_count": 2,
   "metadata": {
    "collapsed": false
   },
   "outputs": [],
   "source": [
    "# it's interesting to test this code with p == 1.0 or p == 0.0 ;)\n",
    "p = .8\n",
    "X_train = np.random.binomial(n=1, p=p, size=(200, 2))\n",
    "X_test  = np.random.binomial(n=1, p=p, size=(200, 2))"
   ]
  },
  {
   "cell_type": "code",
   "execution_count": 3,
   "metadata": {
    "collapsed": false
   },
   "outputs": [
    {
     "name": "stdout",
     "output_type": "stream",
     "text": [
      "Initialisation...\n",
      "weights:\n",
      "[[ 0.00661782 -0.00128594  0.01195124]\n",
      " [-0.00673377 -0.00420466  0.0160529 ]]\n",
      "bias (visible):\n",
      "[[ 0.  0.]]\n",
      "bias (hidden):\n",
      "[[ 0.  0.  0.]]\n",
      "\n",
      "epoch = 99; criteria = 1.07593887655; learning_rate = 0.01 \n"
     ]
    }
   ],
   "source": [
    "nn = RBM(layers=[\n",
    "        BernoulliLayer(X_train.shape[1]),\n",
    "        BernoulliLayer(3)\n",
    "    ], loss_function='NLL')\n",
    "nn.fit(X_train, n_epochs=100, learning_rate=.01, n_gibbs_steps=1, batch_size=10, test_size=0)"
   ]
  },
  {
   "cell_type": "code",
   "execution_count": 4,
   "metadata": {
    "collapsed": false
   },
   "outputs": [
    {
     "name": "stdout",
     "output_type": "stream",
     "text": [
      "weights:\n",
      "[[ 0.37359131  0.40150448  0.29936445]\n",
      " [ 0.2573638   0.28429204  0.28146743]]\n",
      "bias (visible):\n",
      "[[ 0.644  0.494]]\n",
      "bias (hidden):\n",
      "[[ 0.00194291  0.08254541 -0.00129109]]\n"
     ]
    }
   ],
   "source": [
    "print 'weights:\\n', nn.weights\n",
    "print 'bias (visible):\\n', nn.layers[0].bias\n",
    "print 'bias (hidden):\\n',  nn.layers[1].bias"
   ]
  },
  {
   "cell_type": "code",
   "execution_count": 5,
   "metadata": {
    "collapsed": false
   },
   "outputs": [
    {
     "data": {
      "text/plain": [
       "(array([ 0.78683711,  0.73247536]), array([ 0.795,  0.735]), 0.8)"
      ]
     },
     "execution_count": 5,
     "metadata": {},
     "output_type": "execute_result"
    }
   ],
   "source": [
    "nn.predict_proba(X_train), np.mean(X_train, axis=0), p"
   ]
  },
  {
   "cell_type": "code",
   "execution_count": 6,
   "metadata": {
    "collapsed": false
   },
   "outputs": [
    {
     "data": {
      "text/plain": [
       "(array([ 0.7805578 ,  0.72706818]), array([ 0.77,  0.84]), 0.8)"
      ]
     },
     "execution_count": 6,
     "metadata": {},
     "output_type": "execute_result"
    }
   ],
   "source": [
    "nn.predict_proba(X_test), np.mean(X_test, axis=0), p"
   ]
  },
  {
   "cell_type": "code",
   "execution_count": 7,
   "metadata": {
    "collapsed": false
   },
   "outputs": [
    {
     "data": {
      "image/png": "[encoded data removed]",
      "text/plain": [
       "<matplotlib.figure.Figure at 0x754f748>"
      ]
     },
     "metadata": {},
     "output_type": "display_data"
    }
   ],
   "source": [
    "plt.figure(figsize=(7, 5))\n",
    "plt.plot(nn.error_train, label='train')\n",
    "if nn.error_test:\n",
    "    plt.plot(nn.error_test, label='CV')\n",
    "plt.xlabel('epoch')\n",
    "plt.ylabel(nn.loss_function)\n",
    "plt.legend()\n",
    "plt.grid()"
   ]
  },
  {
   "cell_type": "code",
   "execution_count": null,
   "metadata": {
    "collapsed": true
   },
   "outputs": [],
   "source": []
  },
  {
   "cell_type": "code",
   "execution_count": null,
   "metadata": {
    "collapsed": true
   },
   "outputs": [],
   "source": []
  }
 ],
 "metadata": {
  "kernelspec": {
   "display_name": "Python 2",
   "language": "python",
   "name": "python2"
  },
  "language_info": {
   "codemirror_mode": {
    "name": "ipython",
    "version": 2
   },
   "file_extension": ".py",
   "mimetype": "text/x-python",
   "name": "python",
   "nbconvert_exporter": "python",
   "pygments_lexer": "ipython2",
   "version": "2.7.11"
  }
 },
 "nbformat": 4,
 "nbformat_minor": 0
}

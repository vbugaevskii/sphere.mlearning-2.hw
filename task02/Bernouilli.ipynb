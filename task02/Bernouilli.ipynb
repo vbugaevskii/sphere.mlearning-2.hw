{
 "cells": [
  {
   "cell_type": "code",
   "execution_count": 1,
   "metadata": {
    "collapsed": false
   },
   "outputs": [],
   "source": [
    "%load_ext autoreload\n",
    "%autoreload 2\n",
    "\n",
    "from RBM import *\n",
    "import matplotlib.pyplot as plt\n",
    "\n",
    "%matplotlib inline"
   ]
  },
  {
   "cell_type": "code",
   "execution_count": 2,
   "metadata": {
    "collapsed": false
   },
   "outputs": [],
   "source": [
    "# it's interesting to test this code with p == 1.0 or p == 0.0 ;)\n",
    "p = .8\n",
    "X_train = np.random.binomial(n=1, p=p, size=(200, 2))\n",
    "X_test  = np.random.binomial(n=1, p=p, size=(200, 2))"
   ]
  },
  {
   "cell_type": "code",
   "execution_count": 3,
   "metadata": {
    "collapsed": false
   },
   "outputs": [
    {
     "name": "stdout",
     "output_type": "stream",
     "text": [
      "Initialisation...\n",
      "weights:\n",
      "[[-0.00892431 -0.0012524   0.01127819]\n",
      " [-0.0019936  -0.01086538 -0.00132518]]\n",
      "bias (visible):\n",
      "[[ 0.  0.]]\n",
      "bias (hidden):\n",
      "[[ 0.  0.  0.]]\n",
      "\n",
      "epoch = 99; learning_rate = 0.01; criteria_train = 0.99068510928; \n"
     ]
    }
   ],
   "source": [
    "nn = RBM(layers=[\n",
    "        BernoulliLayer(X_train.shape[1]),\n",
    "        BernoulliLayer(3)\n",
    "    ], loss_function='NLL')\n",
    "nn.fit(X_train, n_epochs=100, learning_rate=.01, n_gibbs_steps=1, batch_size=10, test_size=0)"
   ]
  },
  {
   "cell_type": "code",
   "execution_count": 4,
   "metadata": {
    "collapsed": false
   },
   "outputs": [
    {
     "name": "stdout",
     "output_type": "stream",
     "text": [
      "weights:\n",
      "[[ 0.21708201  0.21518146  0.43258092]\n",
      " [ 0.3380356   0.27735996  0.57720417]]\n",
      "bias (visible):\n",
      "[[ 0.565  0.759]]\n",
      "bias (hidden):\n",
      "[[-0.0341922  -0.08126118  0.17986178]]\n"
     ]
    }
   ],
   "source": [
    "print 'weights:\\n', nn.weights\n",
    "print 'bias (visible):\\n', nn.layers[0].bias\n",
    "print 'bias (hidden):\\n',  nn.layers[1].bias"
   ]
  },
  {
   "cell_type": "code",
   "execution_count": 5,
   "metadata": {
    "collapsed": false
   },
   "outputs": [
    {
     "data": {
      "text/plain": [
       "(array([ 0.75604958,  0.82099338]), array([ 0.765,  0.82 ]), 0.8)"
      ]
     },
     "execution_count": 5,
     "metadata": {},
     "output_type": "execute_result"
    }
   ],
   "source": [
    "nn.predict_proba_mean(X_train), np.mean(X_train, axis=0), p"
   ]
  },
  {
   "cell_type": "code",
   "execution_count": 6,
   "metadata": {
    "collapsed": false
   },
   "outputs": [
    {
     "data": {
      "text/plain": [
       "(array([ 0.75432026,  0.81887883]), array([ 0.78 ,  0.775]), 0.8)"
      ]
     },
     "execution_count": 6,
     "metadata": {},
     "output_type": "execute_result"
    }
   ],
   "source": [
    "nn.predict_proba_mean(X_test), np.mean(X_test, axis=0), p"
   ]
  },
  {
   "cell_type": "code",
   "execution_count": 7,
   "metadata": {
    "collapsed": false
   },
   "outputs": [
    {
     "data": {
      "image/png": "[encoded data removed]",
      "text/plain": [
       "<matplotlib.figure.Figure at 0x7dc47f0>"
      ]
     },
     "metadata": {},
     "output_type": "display_data"
    }
   ],
   "source": [
    "plt.figure(figsize=(7, 5))\n",
    "plt.plot(nn.error_train, label='train')\n",
    "if nn.error_test:\n",
    "    plt.plot(nn.error_test, label='CV')\n",
    "plt.xlabel('epoch')\n",
    "plt.ylabel(nn.loss_function)\n",
    "plt.legend()\n",
    "plt.grid()"
   ]
  },
  {
   "cell_type": "code",
   "execution_count": null,
   "metadata": {
    "collapsed": true
   },
   "outputs": [],
   "source": []
  }
 ],
 "metadata": {
  "kernelspec": {
   "display_name": "Python 2",
   "language": "python",
   "name": "python2"
  },
  "language_info": {
   "codemirror_mode": {
    "name": "ipython",
    "version": 2
   },
   "file_extension": ".py",
   "mimetype": "text/x-python",
   "name": "python",
   "nbconvert_exporter": "python",
   "pygments_lexer": "ipython2",
   "version": "2.7.11"
  }
 },
 "nbformat": 4,
 "nbformat_minor": 0
}
